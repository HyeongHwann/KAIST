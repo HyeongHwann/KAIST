{
 "cells": [
  {
   "cell_type": "markdown",
   "metadata": {},
   "source": [
    "# Python Midterm "
   ]
  },
  {
   "cell_type": "markdown",
   "metadata": {},
   "source": [
    "### 20249132 김형환"
   ]
  },
  {
   "cell_type": "markdown",
   "metadata": {},
   "source": [
    "### Problem 1.\n",
    "\n",
    "![](Python midterm1.png)\n",
    "\n",
    "#### (1)\n",
    "5개의 인자 facevalue=𝑃𝑉, couprate=𝑟, yield=𝑦, maturity=𝑀으로 입력하고, frequency=𝑓에\n",
    "맞게 “annual”, “semi-annual”, “quarterly” 중 하나의 문자 값으로 입력하면, 위 식에 따라\n",
    "계산된 채권가격과 듀레이션을 아래와 같은 형태의 튜플로 반환하는 함수 bondftn을 작\n",
    "성하여라."
   ]
  },
  {
   "cell_type": "code",
   "execution_count": 92,
   "metadata": {},
   "outputs": [],
   "source": [
    "def bondftn(pv,r,y,m,f=\"semi-annual\"):\n",
    "    if type(pv)!=float and type(pv)!=int : return print(\"error: pv should be number!!!\")\n",
    "    if type(r)!=float and type(r)!=int: return print(\"error: r should be number!!!\")\n",
    "    if type(y)!=float and type(y)!=int: return print(\"error: y should be number!!!\")\n",
    "    if type(m)!=int: return print(\"error: M should be integer!!!\")\n",
    "    if f==\"annual\": fre=1\n",
    "    elif f==\"semi-annual\": fre=2\n",
    "    elif f==\"quarterly\": fre=4\n",
    "    else: return print(\"error: input correct f : 'annual' or 'semi-annual' or 'quarterly'\")\n",
    "    n=fre*m\n",
    "    coupon=pv*r/100/fre\n",
    "    price=0.0\n",
    "    value_duration=0.0\n",
    "    for i in range(n):\n",
    "        if i==n-1: cf_i=pv+coupon\n",
    "        else: cf_i=coupon\n",
    "        pv_cf_i=cf_i/((1+(y/100/fre))**(i+1))\n",
    "        tw_pv_cf_i=((i+1)/fre)*cf_i/(1+(y/100/fre))**(i+1)\n",
    "        price+=pv_cf_i\n",
    "        value_duration+=tw_pv_cf_i\n",
    "    duration=value_duration/price\n",
    "    result=(price,duration)\n",
    "    return result"
   ]
  },
  {
   "cell_type": "code",
   "execution_count": 93,
   "metadata": {},
   "outputs": [
    {
     "data": {
      "text/plain": [
       "(100.94618505275704, 1.9283979687043786)"
      ]
     },
     "execution_count": 93,
     "metadata": {},
     "output_type": "execute_result"
    }
   ],
   "source": [
    "bondftn(pv=100,r=5,y=4.5,m=2,f=\"semi-annual\")"
   ]
  },
  {
   "cell_type": "code",
   "execution_count": 83,
   "metadata": {},
   "outputs": [],
   "source": [
    "n=4;coupon=2.5;y=4.5;fre=2;pv=100\n",
    "price=0.0\n",
    "value_duration=0.0\n",
    "for i in range(n):\n",
    "    if i==n-1: cf_i=pv+coupon\n",
    "    else: cf_i=coupon\n",
    "    pv_cf_i=cf_i/((1+y/100/fre)**(i+1))\n",
    "    tw_pv_cf_i=(i+1)*cf_i/(1+y/100/fre)**(i+1)\n",
    "    price+=pv_cf_i\n",
    "    value_duration+=tw_pv_cf_i"
   ]
  },
  {
   "cell_type": "code",
   "execution_count": 84,
   "metadata": {},
   "outputs": [
    {
     "data": {
      "text/plain": [
       "100.94618505275704"
      ]
     },
     "execution_count": 84,
     "metadata": {},
     "output_type": "execute_result"
    }
   ],
   "source": [
    "price"
   ]
  },
  {
   "cell_type": "code",
   "execution_count": null,
   "metadata": {},
   "outputs": [],
   "source": []
  }
 ],
 "metadata": {
  "kernelspec": {
   "display_name": "hwan",
   "language": "python",
   "name": "python3"
  },
  "language_info": {
   "codemirror_mode": {
    "name": "ipython",
    "version": 3
   },
   "file_extension": ".py",
   "mimetype": "text/x-python",
   "name": "python",
   "nbconvert_exporter": "python",
   "pygments_lexer": "ipython3",
   "version": "3.10.14"
  }
 },
 "nbformat": 4,
 "nbformat_minor": 2
}
